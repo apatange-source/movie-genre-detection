{
 "cells": [
  {
   "cell_type": "code",
   "execution_count": 1,
   "metadata": {
    "ExecuteTime": {
     "end_time": "2020-10-09T20:39:14.433498Z",
     "start_time": "2020-10-09T20:39:13.993406Z"
    }
   },
   "outputs": [],
   "source": [
    "import pandas as pd\n",
    "\n",
    "dataset = pd.read_csv('MovieGenre.csv', encoding = \"ISO-8859-1\")"
   ]
  },
  {
   "cell_type": "code",
   "execution_count": 2,
   "metadata": {
    "ExecuteTime": {
     "end_time": "2020-10-09T20:39:15.102189Z",
     "start_time": "2020-10-09T20:39:15.098188Z"
    }
   },
   "outputs": [
    {
     "name": "stdout",
     "output_type": "stream",
     "text": [
      "Index(['imdbId', 'Imdb Link', 'Title', 'IMDB Score', 'Genre', 'Poster'], dtype='object')\n"
     ]
    }
   ],
   "source": [
    "print(dataset.columns)"
   ]
  },
  {
   "cell_type": "code",
   "execution_count": 3,
   "metadata": {
    "ExecuteTime": {
     "end_time": "2020-10-09T20:39:16.215623Z",
     "start_time": "2020-10-09T20:39:16.203620Z"
    }
   },
   "outputs": [],
   "source": [
    "genre_data = dataset[dataset['Genre'].notnull()]['Genre']"
   ]
  },
  {
   "cell_type": "code",
   "execution_count": 4,
   "metadata": {
    "ExecuteTime": {
     "end_time": "2020-10-09T20:39:17.981335Z",
     "start_time": "2020-10-09T20:39:17.946327Z"
    }
   },
   "outputs": [],
   "source": [
    "genres = {}\n",
    "for genre in genre_data:\n",
    "    for seperate_genre in (genre.split('|')):\n",
    "        if not (seperate_genre in genres):\n",
    "            genres[seperate_genre] = 1\n",
    "        else:\n",
    "            genres[seperate_genre] += 1\n",
    "            "
   ]
  },
  {
   "cell_type": "code",
   "execution_count": 5,
   "metadata": {
    "ExecuteTime": {
     "end_time": "2020-10-09T20:39:21.092495Z",
     "start_time": "2020-10-09T20:39:21.089502Z"
    }
   },
   "outputs": [
    {
     "name": "stdout",
     "output_type": "stream",
     "text": [
      "{'Animation': 1750, 'Adventure': 3829, 'Comedy': 12682, 'Action': 5331, 'Family': 2100, 'Romance': 6224, 'Drama': 20053, 'Crime': 5270, 'Thriller': 4816, 'Fantasy': 2012, 'Horror': 3990, 'Biography': 1999, 'History': 1426, 'Mystery': 2395, 'Sci-Fi': 2020, 'War': 1173, 'Sport': 707, 'Music': 1292, 'Documentary': 3882, 'Musical': 845, 'Western': 853, 'Short': 1066, 'Film-Noir': 403, 'Talk-Show': 7, 'News': 83, 'Adult': 14, 'Reality-TV': 2, 'Game-Show': 1}\n",
      "28\n"
     ]
    }
   ],
   "source": [
    "print(genres)\n",
    "print(len(genres))"
   ]
  },
  {
   "cell_type": "code",
   "execution_count": 6,
   "metadata": {
    "ExecuteTime": {
     "end_time": "2020-10-09T20:39:22.677582Z",
     "start_time": "2020-10-09T20:39:22.673582Z"
    }
   },
   "outputs": [
    {
     "name": "stdout",
     "output_type": "stream",
     "text": [
      "{'Game-Show': 1, 'Reality-TV': 2, 'Talk-Show': 7, 'Adult': 14, 'News': 83, 'Film-Noir': 403, 'Sport': 707, 'Musical': 845, 'Western': 853, 'Short': 1066, 'War': 1173, 'Music': 1292, 'History': 1426, 'Animation': 1750, 'Biography': 1999, 'Fantasy': 2012, 'Sci-Fi': 2020, 'Family': 2100, 'Mystery': 2395, 'Adventure': 3829, 'Documentary': 3882, 'Horror': 3990, 'Thriller': 4816, 'Crime': 5270, 'Action': 5331, 'Romance': 6224, 'Comedy': 12682, 'Drama': 20053}\n",
      "28\n"
     ]
    }
   ],
   "source": [
    "genres = {k: v for k, v in sorted(genres.items(), key=lambda item: item[1])}\n",
    "print(genres)\n",
    "print(len(genres))"
   ]
  },
  {
   "cell_type": "code",
   "execution_count": 7,
   "metadata": {
    "ExecuteTime": {
     "end_time": "2020-10-09T20:39:25.959442Z",
     "start_time": "2020-10-09T20:39:25.594366Z"
    }
   },
   "outputs": [
    {
     "data": {
      "image/png": "[encoded data removed]",
      "text/plain": [
       "<Figure size 432x288 with 1 Axes>"
      ]
     },
     "metadata": {
      "needs_background": "light"
     },
     "output_type": "display_data"
    }
   ],
   "source": [
    "import matplotlib.pyplot as plt\n",
    "\n",
    "fig = plt.figure()\n",
    "ax = fig.add_axes([0,0,1,1])\n",
    "ax.bar(genres.keys(), genres.values())\n",
    "plt.show()"
   ]
  },
  {
   "cell_type": "code",
   "execution_count": 11,
   "metadata": {
    "ExecuteTime": {
     "end_time": "2020-10-10T00:19:17.135373Z",
     "start_time": "2020-10-10T00:19:17.132380Z"
    }
   },
   "outputs": [
    {
     "name": "stdout",
     "output_type": "stream",
     "text": [
      "dict_keys(['Game-Show', 'Reality-TV', 'Talk-Show', 'Adult', 'News', 'Film-Noir', 'Sport', 'Musical', 'Western', 'Short', 'War', 'Music', 'History', 'Animation', 'Biography', 'Fantasy', 'Sci-Fi', 'Family', 'Mystery', 'Adventure', 'Documentary', 'Horror', 'Thriller', 'Crime', 'Action', 'Romance', 'Comedy', 'Drama'])\n"
     ]
    }
   ],
   "source": [
    "print(genres.keys())"
   ]
  },
  {
   "cell_type": "code",
   "execution_count": 9,
   "metadata": {
    "ExecuteTime": {
     "end_time": "2020-10-09T20:48:22.294437Z",
     "start_time": "2020-10-09T20:48:22.286435Z"
    }
   },
   "outputs": [],
   "source": [
    "dataset = dataset[['imdbId', 'Title', 'Genre', 'Poster']]"
   ]
  },
  {
   "cell_type": "code",
   "execution_count": 10,
   "metadata": {
    "ExecuteTime": {
     "end_time": "2020-10-09T20:48:31.204904Z",
     "start_time": "2020-10-09T20:48:31.197903Z"
    }
   },
   "outputs": [
    {
     "name": "stdout",
     "output_type": "stream",
     "text": [
      "   imdbId                               Title                       Genre  \\\n",
      "0  114709                    Toy Story (1995)  Animation|Adventure|Comedy   \n",
      "1  113497                      Jumanji (1995)     Action|Adventure|Family   \n",
      "2  113228             Grumpier Old Men (1995)              Comedy|Romance   \n",
      "3  114885            Waiting to Exhale (1995)        Comedy|Drama|Romance   \n",
      "4  113041  Father of the Bride Part II (1995)       Comedy|Family|Romance   \n",
      "\n",
      "                                              Poster  \n",
      "0  https://images-na.ssl-images-amazon.com/images...  \n",
      "1  https://images-na.ssl-images-amazon.com/images...  \n",
      "2  https://images-na.ssl-images-amazon.com/images...  \n",
      "3  https://images-na.ssl-images-amazon.com/images...  \n",
      "4  https://images-na.ssl-images-amazon.com/images...  \n"
     ]
    }
   ],
   "source": [
    "print(dataset.head())"
   ]
  },
  {
   "cell_type": "code",
   "execution_count": null,
   "metadata": {},
   "outputs": [],
   "source": []
  }
 ],
 "metadata": {
  "kernelspec": {
   "display_name": "Python 3.7 (tensorflow2.1)",
   "language": "python",
   "name": "tensorflow3"
  },
  "language_info": {
   "codemirror_mode": {
    "name": "ipython",
    "version": 3
   },
   "file_extension": ".py",
   "mimetype": "text/x-python",
   "name": "python",
   "nbconvert_exporter": "python",
   "pygments_lexer": "ipython3",
   "version": "3.7.7"
  },
  "toc": {
   "base_numbering": 1,
   "nav_menu": {},
   "number_sections": true,
   "sideBar": true,
   "skip_h1_title": false,
   "title_cell": "Table of Contents",
   "title_sidebar": "Contents",
   "toc_cell": false,
   "toc_position": {},
   "toc_section_display": true,
   "toc_window_display": false
  }
 },
 "nbformat": 4,
 "nbformat_minor": 4
}
